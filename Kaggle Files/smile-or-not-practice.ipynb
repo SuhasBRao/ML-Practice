{
 "cells": [
  {
   "cell_type": "markdown",
   "id": "400ca3ec",
   "metadata": {
    "papermill": {
     "duration": 0.00742,
     "end_time": "2022-09-29T13:51:58.238870",
     "exception": false,
     "start_time": "2022-09-29T13:51:58.231450",
     "status": "completed"
    },
    "tags": []
   },
   "source": [
    "## Experimenting with kaggle smiling-or-not-face dataset."
   ]
  },
  {
   "cell_type": "code",
   "execution_count": 1,
   "id": "0e62293e",
   "metadata": {
    "execution": {
     "iopub.execute_input": "2022-09-29T13:51:58.253723Z",
     "iopub.status.busy": "2022-09-29T13:51:58.252511Z",
     "iopub.status.idle": "2022-09-29T13:52:05.039269Z",
     "shell.execute_reply": "2022-09-29T13:52:05.038046Z"
    },
    "papermill": {
     "duration": 6.797113,
     "end_time": "2022-09-29T13:52:05.042141",
     "exception": false,
     "start_time": "2022-09-29T13:51:58.245028",
     "status": "completed"
    },
    "tags": []
   },
   "outputs": [],
   "source": [
    "import tensorflow as tf\n",
    "import matplotlib.pyplot as plt\n",
    "import numpy as np\n",
    "import os\n",
    "import shutil\n",
    "\n",
    "# Used for Model building\n",
    "from tensorflow.keras.layers import Dense, Conv2D, MaxPooling2D, Flatten\n",
    "from tensorflow.keras import Sequential\n"
   ]
  },
  {
   "cell_type": "markdown",
   "id": "c7c4856d",
   "metadata": {
    "papermill": {
     "duration": 0.005697,
     "end_time": "2022-09-29T13:52:05.054110",
     "exception": false,
     "start_time": "2022-09-29T13:52:05.048413",
     "status": "completed"
    },
    "tags": []
   },
   "source": [
    "### Get paths for the dataset"
   ]
  },
  {
   "cell_type": "code",
   "execution_count": 2,
   "id": "d9cea20d",
   "metadata": {
    "execution": {
     "iopub.execute_input": "2022-09-29T13:52:05.068694Z",
     "iopub.status.busy": "2022-09-29T13:52:05.067991Z",
     "iopub.status.idle": "2022-09-29T13:52:05.073309Z",
     "shell.execute_reply": "2022-09-29T13:52:05.072425Z"
    },
    "papermill": {
     "duration": 0.015179,
     "end_time": "2022-09-29T13:52:05.075689",
     "exception": false,
     "start_time": "2022-09-29T13:52:05.060510",
     "status": "completed"
    },
    "tags": []
   },
   "outputs": [],
   "source": [
    "non_smile_path_src = '/kaggle/input/smiling-or-not-face-data/non_smile'\n",
    "smile_path_src = '/kaggle/input/smiling-or-not-face-data/smile'\n",
    "test = '/kaggle/input/smiling-or-not-face-data/test'"
   ]
  },
  {
   "cell_type": "markdown",
   "id": "3ed4fbf1",
   "metadata": {
    "papermill": {
     "duration": 0.005646,
     "end_time": "2022-09-29T13:52:05.087429",
     "exception": false,
     "start_time": "2022-09-29T13:52:05.081783",
     "status": "completed"
    },
    "tags": []
   },
   "source": [
    "### Copy the datasets into working directory in kaggle"
   ]
  },
  {
   "cell_type": "code",
   "execution_count": 3,
   "id": "25e86f9d",
   "metadata": {
    "execution": {
     "iopub.execute_input": "2022-09-29T13:52:05.101767Z",
     "iopub.status.busy": "2022-09-29T13:52:05.101047Z",
     "iopub.status.idle": "2022-09-29T13:52:09.874200Z",
     "shell.execute_reply": "2022-09-29T13:52:09.873076Z"
    },
    "papermill": {
     "duration": 4.783799,
     "end_time": "2022-09-29T13:52:09.877281",
     "exception": false,
     "start_time": "2022-09-29T13:52:05.093482",
     "status": "completed"
    },
    "tags": []
   },
   "outputs": [
    {
     "data": {
      "text/plain": [
       "'train_images/non_smile'"
      ]
     },
     "execution_count": 3,
     "metadata": {},
     "output_type": "execute_result"
    }
   ],
   "source": [
    "shutil.copytree(non_smile_path_src, 'train_images/non_smile')"
   ]
  },
  {
   "cell_type": "code",
   "execution_count": 4,
   "id": "b741e604",
   "metadata": {
    "execution": {
     "iopub.execute_input": "2022-09-29T13:52:09.892121Z",
     "iopub.status.busy": "2022-09-29T13:52:09.891053Z",
     "iopub.status.idle": "2022-09-29T13:52:17.633163Z",
     "shell.execute_reply": "2022-09-29T13:52:17.631260Z"
    },
    "papermill": {
     "duration": 7.752952,
     "end_time": "2022-09-29T13:52:17.636649",
     "exception": false,
     "start_time": "2022-09-29T13:52:09.883697",
     "status": "completed"
    },
    "tags": []
   },
   "outputs": [
    {
     "data": {
      "text/plain": [
       "'train_images/smile'"
      ]
     },
     "execution_count": 4,
     "metadata": {},
     "output_type": "execute_result"
    }
   ],
   "source": [
    "shutil.copytree(smile_path_src, 'train_images/smile')"
   ]
  },
  {
   "cell_type": "code",
   "execution_count": 5,
   "id": "ee4b8002",
   "metadata": {
    "execution": {
     "iopub.execute_input": "2022-09-29T13:52:17.652188Z",
     "iopub.status.busy": "2022-09-29T13:52:17.650737Z",
     "iopub.status.idle": "2022-09-29T13:53:16.741725Z",
     "shell.execute_reply": "2022-09-29T13:53:16.739571Z"
    },
    "papermill": {
     "duration": 59.106365,
     "end_time": "2022-09-29T13:53:16.749575",
     "exception": false,
     "start_time": "2022-09-29T13:52:17.643210",
     "status": "completed"
    },
    "tags": []
   },
   "outputs": [
    {
     "data": {
      "text/plain": [
       "'test_samples/test_imgs'"
      ]
     },
     "execution_count": 5,
     "metadata": {},
     "output_type": "execute_result"
    }
   ],
   "source": [
    "shutil.copytree(test, 'test_samples/test_imgs')"
   ]
  },
  {
   "cell_type": "code",
   "execution_count": 6,
   "id": "3a6cad70",
   "metadata": {
    "execution": {
     "iopub.execute_input": "2022-09-29T13:53:16.770242Z",
     "iopub.status.busy": "2022-09-29T13:53:16.769664Z",
     "iopub.status.idle": "2022-09-29T13:53:17.118085Z",
     "shell.execute_reply": "2022-09-29T13:53:17.116740Z"
    },
    "papermill": {
     "duration": 0.362544,
     "end_time": "2022-09-29T13:53:17.120653",
     "exception": false,
     "start_time": "2022-09-29T13:53:16.758109",
     "status": "completed"
    },
    "tags": []
   },
   "outputs": [
    {
     "name": "stdout",
     "output_type": "stream",
     "text": [
      "Found 1203 files belonging to 2 classes.\n"
     ]
    },
    {
     "name": "stderr",
     "output_type": "stream",
     "text": [
      "2022-09-29 13:53:16.904296: I tensorflow/core/common_runtime/process_util.cc:146] Creating new thread pool with default inter op setting: 2. Tune using inter_op_parallelism_threads for best performance.\n"
     ]
    }
   ],
   "source": [
    "train_data_set = tf.keras.utils.image_dataset_from_directory(directory = './train_images',\n",
    "                                                            labels='inferred',\n",
    "                                                            label_mode='categorical',\n",
    "                                                            image_size=(28,28))\n"
   ]
  },
  {
   "cell_type": "code",
   "execution_count": 7,
   "id": "1ee6cd00",
   "metadata": {
    "execution": {
     "iopub.execute_input": "2022-09-29T13:53:17.138014Z",
     "iopub.status.busy": "2022-09-29T13:53:17.136920Z",
     "iopub.status.idle": "2022-09-29T13:53:17.143755Z",
     "shell.execute_reply": "2022-09-29T13:53:17.142327Z"
    },
    "papermill": {
     "duration": 0.019387,
     "end_time": "2022-09-29T13:53:17.147284",
     "exception": false,
     "start_time": "2022-09-29T13:53:17.127897",
     "status": "completed"
    },
    "tags": []
   },
   "outputs": [
    {
     "name": "stdout",
     "output_type": "stream",
     "text": [
      "['non_smile', 'smile']\n"
     ]
    }
   ],
   "source": [
    "class_names = train_data_set.class_names\n",
    "print(class_names)"
   ]
  },
  {
   "cell_type": "markdown",
   "id": "bd6a8a79",
   "metadata": {
    "papermill": {
     "duration": 0.007557,
     "end_time": "2022-09-29T13:53:17.163252",
     "exception": false,
     "start_time": "2022-09-29T13:53:17.155695",
     "status": "completed"
    },
    "tags": []
   },
   "source": [
    "### A function to plot few images to check "
   ]
  },
  {
   "cell_type": "code",
   "execution_count": 8,
   "id": "af1b67b2",
   "metadata": {
    "execution": {
     "iopub.execute_input": "2022-09-29T13:53:17.179090Z",
     "iopub.status.busy": "2022-09-29T13:53:17.178024Z",
     "iopub.status.idle": "2022-09-29T13:53:17.188035Z",
     "shell.execute_reply": "2022-09-29T13:53:17.187021Z"
    },
    "papermill": {
     "duration": 0.020673,
     "end_time": "2022-09-29T13:53:17.190628",
     "exception": false,
     "start_time": "2022-09-29T13:53:17.169955",
     "status": "completed"
    },
    "tags": []
   },
   "outputs": [],
   "source": [
    "def plot_images(tf_dataset, no_imgs_to_plot = 4, class_names = class_names, model=None):\n",
    "    plt.figure(figsize=(10, 10))\n",
    "    \n",
    "    if model is None:\n",
    "        for images, labels in tf_dataset.take(1):\n",
    "            for i in range(no_imgs_to_plot):\n",
    "                ax = plt.subplot(4, 4, i + 1)\n",
    "                plt.imshow(images[i].numpy().astype(\"uint8\"))\n",
    "                plt.title(class_names[np.argmax(labels[i])])\n",
    "                plt.axis(\"off\")\n",
    "    else:\n",
    "        for images, labels in tf_dataset.take(1):\n",
    "            for i in range(no_imgs_to_plot):\n",
    "                sample = images[i]\n",
    "                sample = sample[np.newaxis,...]\n",
    "                ax = plt.subplot(4, 4, i + 1)\n",
    "                plt.imshow(images[i].numpy().astype(\"uint8\"))\n",
    "                print(model.predict(sample))\n",
    "                plt.title(class_names[np.argmax(model.predict(sample))])\n",
    "                plt.axis(\"off\")\n",
    "        "
   ]
  },
  {
   "cell_type": "markdown",
   "id": "c4a12c9b",
   "metadata": {
    "papermill": {
     "duration": 0.007137,
     "end_time": "2022-09-29T13:53:17.205079",
     "exception": false,
     "start_time": "2022-09-29T13:53:17.197942",
     "status": "completed"
    },
    "tags": []
   },
   "source": [
    "### Model building"
   ]
  },
  {
   "cell_type": "code",
   "execution_count": 9,
   "id": "34c0a3e0",
   "metadata": {
    "execution": {
     "iopub.execute_input": "2022-09-29T13:53:17.221554Z",
     "iopub.status.busy": "2022-09-29T13:53:17.220451Z",
     "iopub.status.idle": "2022-09-29T13:53:17.538211Z",
     "shell.execute_reply": "2022-09-29T13:53:17.537104Z"
    },
    "papermill": {
     "duration": 0.32956,
     "end_time": "2022-09-29T13:53:17.541244",
     "exception": false,
     "start_time": "2022-09-29T13:53:17.211684",
     "status": "completed"
    },
    "tags": []
   },
   "outputs": [],
   "source": [
    "model = Sequential()\n",
    "model.add(Conv2D(32,(3,3),activation='relu',  input_shape=(28,28,3)))\n",
    "model.add(MaxPooling2D(pool_size=(2,2)))\n",
    "model.add(Conv2D(64,(3,3), activation='relu'))\n",
    "model.add(MaxPooling2D((2,2)))\n",
    "model.add(Conv2D(128,(3,3), activation='relu'))\n",
    "\n",
    "model.add(Flatten())\n",
    "model.add(Dense(64, activation='relu'))\n",
    "model.add(Dense(2, activation='softmax'))"
   ]
  },
  {
   "cell_type": "code",
   "execution_count": 10,
   "id": "958c2829",
   "metadata": {
    "execution": {
     "iopub.execute_input": "2022-09-29T13:53:17.559178Z",
     "iopub.status.busy": "2022-09-29T13:53:17.558379Z",
     "iopub.status.idle": "2022-09-29T13:53:17.567142Z",
     "shell.execute_reply": "2022-09-29T13:53:17.565510Z"
    },
    "papermill": {
     "duration": 0.021309,
     "end_time": "2022-09-29T13:53:17.570442",
     "exception": false,
     "start_time": "2022-09-29T13:53:17.549133",
     "status": "completed"
    },
    "tags": []
   },
   "outputs": [
    {
     "name": "stdout",
     "output_type": "stream",
     "text": [
      "Model: \"sequential\"\n",
      "_________________________________________________________________\n",
      "Layer (type)                 Output Shape              Param #   \n",
      "=================================================================\n",
      "conv2d (Conv2D)              (None, 26, 26, 32)        896       \n",
      "_________________________________________________________________\n",
      "max_pooling2d (MaxPooling2D) (None, 13, 13, 32)        0         \n",
      "_________________________________________________________________\n",
      "conv2d_1 (Conv2D)            (None, 11, 11, 64)        18496     \n",
      "_________________________________________________________________\n",
      "max_pooling2d_1 (MaxPooling2 (None, 5, 5, 64)          0         \n",
      "_________________________________________________________________\n",
      "conv2d_2 (Conv2D)            (None, 3, 3, 128)         73856     \n",
      "_________________________________________________________________\n",
      "flatten (Flatten)            (None, 1152)              0         \n",
      "_________________________________________________________________\n",
      "dense (Dense)                (None, 64)                73792     \n",
      "_________________________________________________________________\n",
      "dense_1 (Dense)              (None, 2)                 130       \n",
      "=================================================================\n",
      "Total params: 167,170\n",
      "Trainable params: 167,170\n",
      "Non-trainable params: 0\n",
      "_________________________________________________________________\n"
     ]
    }
   ],
   "source": [
    "model.summary()"
   ]
  },
  {
   "cell_type": "code",
   "execution_count": 11,
   "id": "9dd3f256",
   "metadata": {
    "execution": {
     "iopub.execute_input": "2022-09-29T13:53:17.588978Z",
     "iopub.status.busy": "2022-09-29T13:53:17.588096Z",
     "iopub.status.idle": "2022-09-29T13:53:17.605286Z",
     "shell.execute_reply": "2022-09-29T13:53:17.603873Z"
    },
    "papermill": {
     "duration": 0.029715,
     "end_time": "2022-09-29T13:53:17.608149",
     "exception": false,
     "start_time": "2022-09-29T13:53:17.578434",
     "status": "completed"
    },
    "tags": []
   },
   "outputs": [],
   "source": [
    "model.compile(optimizer='Adam',\n",
    "             loss='categorical_crossentropy',\n",
    "             metrics='accuracy')"
   ]
  },
  {
   "cell_type": "code",
   "execution_count": 12,
   "id": "deeb3db3",
   "metadata": {
    "execution": {
     "iopub.execute_input": "2022-09-29T13:53:17.624571Z",
     "iopub.status.busy": "2022-09-29T13:53:17.624084Z",
     "iopub.status.idle": "2022-09-29T13:53:28.346180Z",
     "shell.execute_reply": "2022-09-29T13:53:28.344174Z"
    },
    "papermill": {
     "duration": 10.733678,
     "end_time": "2022-09-29T13:53:28.349157",
     "exception": false,
     "start_time": "2022-09-29T13:53:17.615479",
     "status": "completed"
    },
    "tags": []
   },
   "outputs": [
    {
     "name": "stdout",
     "output_type": "stream",
     "text": [
      "Epoch 1/10\n"
     ]
    },
    {
     "name": "stderr",
     "output_type": "stream",
     "text": [
      "2022-09-29 13:53:18.182043: I tensorflow/compiler/mlir/mlir_graph_optimization_pass.cc:185] None of the MLIR Optimization Passes are enabled (registered 2)\n"
     ]
    },
    {
     "name": "stdout",
     "output_type": "stream",
     "text": [
      "38/38 [==============================] - 2s 18ms/step - loss: 4.0186 - accuracy: 0.6334\n",
      "Epoch 2/10\n",
      "38/38 [==============================] - 1s 18ms/step - loss: 0.3305 - accuracy: 0.8670\n",
      "Epoch 3/10\n",
      "38/38 [==============================] - 1s 17ms/step - loss: 0.2281 - accuracy: 0.9135\n",
      "Epoch 4/10\n",
      "38/38 [==============================] - 1s 17ms/step - loss: 0.1619 - accuracy: 0.9377\n",
      "Epoch 5/10\n",
      "38/38 [==============================] - 1s 17ms/step - loss: 0.1579 - accuracy: 0.9352\n",
      "Epoch 6/10\n",
      "38/38 [==============================] - 1s 17ms/step - loss: 0.1360 - accuracy: 0.9501\n",
      "Epoch 7/10\n",
      "38/38 [==============================] - 1s 17ms/step - loss: 0.1060 - accuracy: 0.9593\n",
      "Epoch 8/10\n",
      "38/38 [==============================] - 1s 16ms/step - loss: 0.1120 - accuracy: 0.9543\n",
      "Epoch 9/10\n",
      "38/38 [==============================] - 1s 17ms/step - loss: 0.0624 - accuracy: 0.9809\n",
      "Epoch 10/10\n",
      "38/38 [==============================] - 1s 18ms/step - loss: 0.0519 - accuracy: 0.9825\n"
     ]
    }
   ],
   "source": [
    "history = model.fit(train_data_set, batch_size=32, epochs=10, \n",
    "                   shuffle=True)"
   ]
  },
  {
   "cell_type": "markdown",
   "id": "68e55fed",
   "metadata": {
    "papermill": {
     "duration": 0.015271,
     "end_time": "2022-09-29T13:53:28.380859",
     "exception": false,
     "start_time": "2022-09-29T13:53:28.365588",
     "status": "completed"
    },
    "tags": []
   },
   "source": [
    "Plot of Loss vs epochs"
   ]
  },
  {
   "cell_type": "code",
   "execution_count": 13,
   "id": "7cfaa89c",
   "metadata": {
    "execution": {
     "iopub.execute_input": "2022-09-29T13:53:28.414214Z",
     "iopub.status.busy": "2022-09-29T13:53:28.413465Z",
     "iopub.status.idle": "2022-09-29T13:53:28.420130Z",
     "shell.execute_reply": "2022-09-29T13:53:28.419109Z"
    },
    "papermill": {
     "duration": 0.02618,
     "end_time": "2022-09-29T13:53:28.422649",
     "exception": false,
     "start_time": "2022-09-29T13:53:28.396469",
     "status": "completed"
    },
    "tags": []
   },
   "outputs": [
    {
     "data": {
      "text/plain": [
       "dict_keys(['loss', 'accuracy'])"
      ]
     },
     "execution_count": 13,
     "metadata": {},
     "output_type": "execute_result"
    }
   ],
   "source": [
    "history.history.keys()"
   ]
  },
  {
   "cell_type": "code",
   "execution_count": 14,
   "id": "abc75d3a",
   "metadata": {
    "execution": {
     "iopub.execute_input": "2022-09-29T13:53:28.456468Z",
     "iopub.status.busy": "2022-09-29T13:53:28.455339Z",
     "iopub.status.idle": "2022-09-29T13:53:28.758298Z",
     "shell.execute_reply": "2022-09-29T13:53:28.756636Z"
    },
    "papermill": {
     "duration": 0.32504,
     "end_time": "2022-09-29T13:53:28.762698",
     "exception": false,
     "start_time": "2022-09-29T13:53:28.437658",
     "status": "completed"
    },
    "tags": []
   },
   "outputs": [
    {
     "data": {
      "text/plain": [
       "Text(0.5, 1.0, 'Loss V/S epochs')"
      ]
     },
     "execution_count": 14,
     "metadata": {},
     "output_type": "execute_result"
    },
    {
     "data": {
      "image/png": "[encoded data removed]",
      "text/plain": [
       "<Figure size 720x360 with 1 Axes>"
      ]
     },
     "metadata": {
      "needs_background": "light"
     },
     "output_type": "display_data"
    }
   ],
   "source": [
    "acc = history.history['accuracy'] \n",
    "\n",
    "loss = history.history['loss']\n",
    "\n",
    "\n",
    "epochs_range = range(10)\n",
    "\n",
    "plt.figure(figsize=(10, 5))\n",
    "plt.subplot(1, 2, 1)\n",
    "plt.plot(epochs_range, acc, label='Training Accuracy')\n",
    "plt.plot(epochs_range, loss, label='Loss')\n",
    "plt.legend(loc='lower right')\n",
    "plt.title('Loss V/S epochs')\n"
   ]
  },
  {
   "cell_type": "code",
   "execution_count": 15,
   "id": "0080b4af",
   "metadata": {
    "execution": {
     "iopub.execute_input": "2022-09-29T13:53:28.797174Z",
     "iopub.status.busy": "2022-09-29T13:53:28.796730Z",
     "iopub.status.idle": "2022-09-29T13:53:29.292506Z",
     "shell.execute_reply": "2022-09-29T13:53:29.291326Z"
    },
    "papermill": {
     "duration": 0.516838,
     "end_time": "2022-09-29T13:53:29.295634",
     "exception": false,
     "start_time": "2022-09-29T13:53:28.778796",
     "status": "completed"
    },
    "tags": []
   },
   "outputs": [
    {
     "name": "stdout",
     "output_type": "stream",
     "text": [
      "Found 12030 files belonging to 1 classes.\n"
     ]
    }
   ],
   "source": [
    "test_data = tf.keras.utils.image_dataset_from_directory('./test_samples',\n",
    "                                                        labels='inferred',\n",
    "                                                        label_mode='categorical',\n",
    "                                                        image_size=(28,28))"
   ]
  },
  {
   "cell_type": "code",
   "execution_count": 16,
   "id": "651b7a95",
   "metadata": {
    "execution": {
     "iopub.execute_input": "2022-09-29T13:53:29.331045Z",
     "iopub.status.busy": "2022-09-29T13:53:29.330622Z",
     "iopub.status.idle": "2022-09-29T13:53:29.336744Z",
     "shell.execute_reply": "2022-09-29T13:53:29.335495Z"
    },
    "papermill": {
     "duration": 0.026855,
     "end_time": "2022-09-29T13:53:29.339776",
     "exception": false,
     "start_time": "2022-09-29T13:53:29.312921",
     "status": "completed"
    },
    "tags": []
   },
   "outputs": [
    {
     "name": "stdout",
     "output_type": "stream",
     "text": [
      "['test_imgs']\n"
     ]
    }
   ],
   "source": [
    "class_names_test = test_data.class_names\n",
    "print(class_names_test)"
   ]
  },
  {
   "cell_type": "code",
   "execution_count": 17,
   "id": "d1a4743c",
   "metadata": {
    "execution": {
     "iopub.execute_input": "2022-09-29T13:53:29.375589Z",
     "iopub.status.busy": "2022-09-29T13:53:29.375076Z",
     "iopub.status.idle": "2022-09-29T13:53:30.364023Z",
     "shell.execute_reply": "2022-09-29T13:53:30.362401Z"
    },
    "papermill": {
     "duration": 1.010495,
     "end_time": "2022-09-29T13:53:30.367379",
     "exception": false,
     "start_time": "2022-09-29T13:53:29.356884",
     "status": "completed"
    },
    "tags": []
   },
   "outputs": [
    {
     "name": "stdout",
     "output_type": "stream",
     "text": [
      "[[0.96365    0.03634996]]\n",
      "[[0.0153648 0.9846352]]\n",
      "[[0.8513729  0.14862707]]\n",
      "[[0.99815243 0.00184753]]\n"
     ]
    },
    {
     "data": {
      "image/png": "[encoded data removed]",
      "text/plain": [
       "<Figure size 720x720 with 4 Axes>"
      ]
     },
     "metadata": {
      "needs_background": "light"
     },
     "output_type": "display_data"
    }
   ],
   "source": [
    "plot_images(test_data,model=model)"
   ]
  },
  {
   "cell_type": "code",
   "execution_count": null,
   "id": "84d6ded2",
   "metadata": {
    "papermill": {
     "duration": 0.017055,
     "end_time": "2022-09-29T13:53:30.401927",
     "exception": false,
     "start_time": "2022-09-29T13:53:30.384872",
     "status": "completed"
    },
    "tags": []
   },
   "outputs": [],
   "source": []
  },
  {
   "cell_type": "code",
   "execution_count": null,
   "id": "ddddd45e",
   "metadata": {
    "papermill": {
     "duration": 0.017219,
     "end_time": "2022-09-29T13:53:30.435200",
     "exception": false,
     "start_time": "2022-09-29T13:53:30.417981",
     "status": "completed"
    },
    "tags": []
   },
   "outputs": [],
   "source": []
  }
 ],
 "metadata": {
  "kernelspec": {
   "display_name": "Python 3",
   "language": "python",
   "name": "python3"
  },
  "language_info": {
   "codemirror_mode": {
    "name": "ipython",
    "version": 3
   },
   "file_extension": ".py",
   "mimetype": "text/x-python",
   "name": "python",
   "nbconvert_exporter": "python",
   "pygments_lexer": "ipython3",
   "version": "3.7.12"
  },
  "papermill": {
   "default_parameters": {},
   "duration": 105.363552,
   "end_time": "2022-09-29T13:53:33.461621",
   "environment_variables": {},
   "exception": null,
   "input_path": "__notebook__.ipynb",
   "output_path": "__notebook__.ipynb",
   "parameters": {},
   "start_time": "2022-09-29T13:51:48.098069",
   "version": "2.3.4"
  }
 },
 "nbformat": 4,
 "nbformat_minor": 5
}
