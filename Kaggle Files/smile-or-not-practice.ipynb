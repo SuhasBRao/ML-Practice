{
 "cells": [
  {
   "cell_type": "markdown",
   "id": "5a6eedae",
   "metadata": {
    "papermill": {
     "duration": 0.007705,
     "end_time": "2022-09-29T09:30:53.919097",
     "exception": false,
     "start_time": "2022-09-29T09:30:53.911392",
     "status": "completed"
    },
    "tags": []
   },
   "source": [
    "## Experimenting with kaggle smiling-or-not-face dataset."
   ]
  },
  {
   "cell_type": "code",
   "execution_count": 1,
   "id": "ed8147cc",
   "metadata": {
    "execution": {
     "iopub.execute_input": "2022-09-29T09:30:53.934260Z",
     "iopub.status.busy": "2022-09-29T09:30:53.933816Z",
     "iopub.status.idle": "2022-09-29T09:30:59.600705Z",
     "shell.execute_reply": "2022-09-29T09:30:59.599575Z"
    },
    "papermill": {
     "duration": 5.678043,
     "end_time": "2022-09-29T09:30:59.603750",
     "exception": false,
     "start_time": "2022-09-29T09:30:53.925707",
     "status": "completed"
    },
    "tags": []
   },
   "outputs": [],
   "source": [
    "import tensorflow as tf\n",
    "import matplotlib.pyplot as plt\n",
    "import numpy as np\n",
    "import os\n",
    "import shutil"
   ]
  },
  {
   "cell_type": "code",
   "execution_count": 2,
   "id": "82d3cbec",
   "metadata": {
    "execution": {
     "iopub.execute_input": "2022-09-29T09:30:59.619727Z",
     "iopub.status.busy": "2022-09-29T09:30:59.618535Z",
     "iopub.status.idle": "2022-09-29T09:31:06.935579Z",
     "shell.execute_reply": "2022-09-29T09:31:06.933155Z"
    },
    "papermill": {
     "duration": 7.327851,
     "end_time": "2022-09-29T09:31:06.938348",
     "exception": false,
     "start_time": "2022-09-29T09:30:59.610497",
     "status": "completed"
    },
    "tags": []
   },
   "outputs": [
    {
     "name": "stdout",
     "output_type": "stream",
     "text": [
      "Found 13233 files belonging to 3 classes.\n"
     ]
    },
    {
     "name": "stderr",
     "output_type": "stream",
     "text": [
      "2022-09-29 09:31:06.793449: I tensorflow/core/common_runtime/process_util.cc:146] Creating new thread pool with default inter op setting: 2. Tune using inter_op_parallelism_threads for best performance.\n"
     ]
    }
   ],
   "source": [
    "train_data_set = tf.keras.utils.image_dataset_from_directory(directory='/kaggle/input/smiling-or-not-face-data',\n",
    "                                                            labels='inferred',\n",
    "                                                            label_mode='categorical',\n",
    "                                                            image_size=(28,28))"
   ]
  },
  {
   "cell_type": "code",
   "execution_count": 3,
   "id": "75b22082",
   "metadata": {
    "execution": {
     "iopub.execute_input": "2022-09-29T09:31:06.953849Z",
     "iopub.status.busy": "2022-09-29T09:31:06.953420Z",
     "iopub.status.idle": "2022-09-29T09:31:06.963264Z",
     "shell.execute_reply": "2022-09-29T09:31:06.962095Z"
    },
    "papermill": {
     "duration": 0.020836,
     "end_time": "2022-09-29T09:31:06.965949",
     "exception": false,
     "start_time": "2022-09-29T09:31:06.945113",
     "status": "completed"
    },
    "tags": []
   },
   "outputs": [
    {
     "data": {
      "text/plain": [
       "['non_smile', 'smile', 'test']"
      ]
     },
     "execution_count": 3,
     "metadata": {},
     "output_type": "execute_result"
    }
   ],
   "source": [
    "train_data_set.class_names"
   ]
  },
  {
   "cell_type": "code",
   "execution_count": 4,
   "id": "a38d3e90",
   "metadata": {
    "execution": {
     "iopub.execute_input": "2022-09-29T09:31:06.981530Z",
     "iopub.status.busy": "2022-09-29T09:31:06.981119Z",
     "iopub.status.idle": "2022-09-29T09:31:06.986078Z",
     "shell.execute_reply": "2022-09-29T09:31:06.985124Z"
    },
    "papermill": {
     "duration": 0.015166,
     "end_time": "2022-09-29T09:31:06.988180",
     "exception": false,
     "start_time": "2022-09-29T09:31:06.973014",
     "status": "completed"
    },
    "tags": []
   },
   "outputs": [],
   "source": [
    "non_smile_path_src = '/kaggle/input/smiling-or-not-face-data/non_smile'\n",
    "smile_path_src = '/kaggle/input/smiling-or-not-face-data/smile'\n",
    "test = '/kaggle/input/smiling-or-not-face-data/test'"
   ]
  },
  {
   "cell_type": "markdown",
   "id": "10f67a27",
   "metadata": {
    "papermill": {
     "duration": 0.006248,
     "end_time": "2022-09-29T09:31:07.001155",
     "exception": false,
     "start_time": "2022-09-29T09:31:06.994907",
     "status": "completed"
    },
    "tags": []
   },
   "source": [
    "Copy the datasets into working directory in kaggle"
   ]
  },
  {
   "cell_type": "code",
   "execution_count": 5,
   "id": "030ac208",
   "metadata": {
    "execution": {
     "iopub.execute_input": "2022-09-29T09:31:07.017255Z",
     "iopub.status.busy": "2022-09-29T09:31:07.015758Z",
     "iopub.status.idle": "2022-09-29T09:31:08.934389Z",
     "shell.execute_reply": "2022-09-29T09:31:08.933165Z"
    },
    "papermill": {
     "duration": 1.929164,
     "end_time": "2022-09-29T09:31:08.936975",
     "exception": false,
     "start_time": "2022-09-29T09:31:07.007811",
     "status": "completed"
    },
    "tags": []
   },
   "outputs": [
    {
     "data": {
      "text/plain": [
       "'train_images/non_smile'"
      ]
     },
     "execution_count": 5,
     "metadata": {},
     "output_type": "execute_result"
    }
   ],
   "source": [
    "shutil.copytree(non_smile_path_src, 'train_images/non_smile')"
   ]
  },
  {
   "cell_type": "code",
   "execution_count": 6,
   "id": "548b651b",
   "metadata": {
    "execution": {
     "iopub.execute_input": "2022-09-29T09:31:08.953009Z",
     "iopub.status.busy": "2022-09-29T09:31:08.951740Z",
     "iopub.status.idle": "2022-09-29T09:31:10.773484Z",
     "shell.execute_reply": "2022-09-29T09:31:10.772043Z"
    },
    "papermill": {
     "duration": 1.832774,
     "end_time": "2022-09-29T09:31:10.776532",
     "exception": false,
     "start_time": "2022-09-29T09:31:08.943758",
     "status": "completed"
    },
    "tags": []
   },
   "outputs": [
    {
     "data": {
      "text/plain": [
       "'train_images/smile'"
      ]
     },
     "execution_count": 6,
     "metadata": {},
     "output_type": "execute_result"
    }
   ],
   "source": [
    "shutil.copytree(smile_path_src, 'train_images/smile')"
   ]
  },
  {
   "cell_type": "code",
   "execution_count": 7,
   "id": "95250794",
   "metadata": {
    "execution": {
     "iopub.execute_input": "2022-09-29T09:31:10.792907Z",
     "iopub.status.busy": "2022-09-29T09:31:10.792054Z",
     "iopub.status.idle": "2022-09-29T09:31:48.109934Z",
     "shell.execute_reply": "2022-09-29T09:31:48.108720Z"
    },
    "papermill": {
     "duration": 37.336121,
     "end_time": "2022-09-29T09:31:48.119992",
     "exception": false,
     "start_time": "2022-09-29T09:31:10.783871",
     "status": "completed"
    },
    "tags": []
   },
   "outputs": [
    {
     "data": {
      "text/plain": [
       "'test_samples/test_imgs'"
      ]
     },
     "execution_count": 7,
     "metadata": {},
     "output_type": "execute_result"
    }
   ],
   "source": [
    "shutil.copytree(test, 'test_samples/test_imgs')"
   ]
  },
  {
   "cell_type": "code",
   "execution_count": 8,
   "id": "6dae5b36",
   "metadata": {
    "execution": {
     "iopub.execute_input": "2022-09-29T09:31:48.135760Z",
     "iopub.status.busy": "2022-09-29T09:31:48.135106Z",
     "iopub.status.idle": "2022-09-29T09:31:48.269608Z",
     "shell.execute_reply": "2022-09-29T09:31:48.268199Z"
    },
    "papermill": {
     "duration": 0.145612,
     "end_time": "2022-09-29T09:31:48.272439",
     "exception": false,
     "start_time": "2022-09-29T09:31:48.126827",
     "status": "completed"
    },
    "tags": []
   },
   "outputs": [
    {
     "name": "stdout",
     "output_type": "stream",
     "text": [
      "Found 1203 files belonging to 2 classes.\n"
     ]
    }
   ],
   "source": [
    "train_data_set = tf.keras.utils.image_dataset_from_directory(directory = './train_images',\n",
    "                                                            labels='inferred',\n",
    "                                                            label_mode='categorical',\n",
    "                                                            image_size=(28,28))\n",
    "\n"
   ]
  },
  {
   "cell_type": "code",
   "execution_count": 9,
   "id": "2450283a",
   "metadata": {
    "execution": {
     "iopub.execute_input": "2022-09-29T09:31:48.288073Z",
     "iopub.status.busy": "2022-09-29T09:31:48.287643Z",
     "iopub.status.idle": "2022-09-29T09:31:48.293310Z",
     "shell.execute_reply": "2022-09-29T09:31:48.292102Z"
    },
    "papermill": {
     "duration": 0.016414,
     "end_time": "2022-09-29T09:31:48.295835",
     "exception": false,
     "start_time": "2022-09-29T09:31:48.279421",
     "status": "completed"
    },
    "tags": []
   },
   "outputs": [
    {
     "name": "stdout",
     "output_type": "stream",
     "text": [
      "['non_smile', 'smile']\n"
     ]
    }
   ],
   "source": [
    "class_names = train_data_set.class_names\n",
    "print(class_names)"
   ]
  },
  {
   "cell_type": "markdown",
   "id": "a41236a5",
   "metadata": {
    "papermill": {
     "duration": 0.006663,
     "end_time": "2022-09-29T09:31:48.309547",
     "exception": false,
     "start_time": "2022-09-29T09:31:48.302884",
     "status": "completed"
    },
    "tags": []
   },
   "source": [
    "Plot few images to check"
   ]
  },
  {
   "cell_type": "code",
   "execution_count": 10,
   "id": "5b2b43b2",
   "metadata": {
    "execution": {
     "iopub.execute_input": "2022-09-29T09:31:48.325328Z",
     "iopub.status.busy": "2022-09-29T09:31:48.324930Z",
     "iopub.status.idle": "2022-09-29T09:31:49.034356Z",
     "shell.execute_reply": "2022-09-29T09:31:49.033110Z"
    },
    "papermill": {
     "duration": 0.720659,
     "end_time": "2022-09-29T09:31:49.037181",
     "exception": false,
     "start_time": "2022-09-29T09:31:48.316522",
     "status": "completed"
    },
    "tags": []
   },
   "outputs": [
    {
     "name": "stdout",
     "output_type": "stream",
     "text": [
      "<TakeDataset shapes: ((None, 28, 28, 3), (None, 2)), types: (tf.float32, tf.float32)>\n"
     ]
    },
    {
     "name": "stderr",
     "output_type": "stream",
     "text": [
      "2022-09-29 09:31:48.364448: I tensorflow/compiler/mlir/mlir_graph_optimization_pass.cc:185] None of the MLIR Optimization Passes are enabled (registered 2)\n"
     ]
    },
    {
     "data": {
      "image/png": "[encoded data removed]",
      "text/plain": [
       "<Figure size 720x720 with 9 Axes>"
      ]
     },
     "metadata": {
      "needs_background": "light"
     },
     "output_type": "display_data"
    }
   ],
   "source": [
    "plt.figure(figsize=(10, 10))\n",
    "print(train_data_set.take(1))\n",
    "for images, labels in train_data_set.take(1):\n",
    "    for i in range(9):\n",
    "        ax = plt.subplot(4, 4, i + 1)\n",
    "        plt.imshow(images[i].numpy().astype(\"uint8\"))\n",
    "        plt.title(class_names[np.argmax(labels[i])])\n",
    "        plt.axis(\"off\")"
   ]
  },
  {
   "cell_type": "markdown",
   "id": "84213d3d",
   "metadata": {
    "papermill": {
     "duration": 0.007588,
     "end_time": "2022-09-29T09:31:49.052543",
     "exception": false,
     "start_time": "2022-09-29T09:31:49.044955",
     "status": "completed"
    },
    "tags": []
   },
   "source": [
    "Model building"
   ]
  },
  {
   "cell_type": "code",
   "execution_count": 11,
   "id": "87d08657",
   "metadata": {
    "execution": {
     "iopub.execute_input": "2022-09-29T09:31:49.070478Z",
     "iopub.status.busy": "2022-09-29T09:31:49.069764Z",
     "iopub.status.idle": "2022-09-29T09:31:49.076016Z",
     "shell.execute_reply": "2022-09-29T09:31:49.075121Z"
    },
    "papermill": {
     "duration": 0.018096,
     "end_time": "2022-09-29T09:31:49.078423",
     "exception": false,
     "start_time": "2022-09-29T09:31:49.060327",
     "status": "completed"
    },
    "tags": []
   },
   "outputs": [],
   "source": [
    "from tensorflow.keras.layers import Dense, Conv2D, MaxPooling2D, Flatten\n",
    "from tensorflow.keras import Sequential\n"
   ]
  },
  {
   "cell_type": "code",
   "execution_count": 12,
   "id": "e54c66e0",
   "metadata": {
    "execution": {
     "iopub.execute_input": "2022-09-29T09:31:49.096128Z",
     "iopub.status.busy": "2022-09-29T09:31:49.095470Z",
     "iopub.status.idle": "2022-09-29T09:31:49.201505Z",
     "shell.execute_reply": "2022-09-29T09:31:49.200284Z"
    },
    "papermill": {
     "duration": 0.118082,
     "end_time": "2022-09-29T09:31:49.204260",
     "exception": false,
     "start_time": "2022-09-29T09:31:49.086178",
     "status": "completed"
    },
    "tags": []
   },
   "outputs": [],
   "source": [
    "model = Sequential()\n",
    "model.add(Conv2D(32,(3,3),activation='relu',  input_shape=(28,28,3)))\n",
    "model.add(MaxPooling2D(pool_size=(2,2)))\n",
    "model.add(Conv2D(64,(3,3), activation='relu'))\n",
    "model.add(MaxPooling2D((2,2)))\n",
    "\n",
    "model.add(Flatten())\n",
    "model.add(Dense(64, activation='relu'))\n",
    "model.add(Dense(2, activation='softmax'))"
   ]
  },
  {
   "cell_type": "code",
   "execution_count": 13,
   "id": "ef5b64d3",
   "metadata": {
    "execution": {
     "iopub.execute_input": "2022-09-29T09:31:49.222180Z",
     "iopub.status.busy": "2022-09-29T09:31:49.221513Z",
     "iopub.status.idle": "2022-09-29T09:31:49.228543Z",
     "shell.execute_reply": "2022-09-29T09:31:49.227374Z"
    },
    "papermill": {
     "duration": 0.018948,
     "end_time": "2022-09-29T09:31:49.231068",
     "exception": false,
     "start_time": "2022-09-29T09:31:49.212120",
     "status": "completed"
    },
    "tags": []
   },
   "outputs": [
    {
     "name": "stdout",
     "output_type": "stream",
     "text": [
      "Model: \"sequential\"\n",
      "_________________________________________________________________\n",
      "Layer (type)                 Output Shape              Param #   \n",
      "=================================================================\n",
      "conv2d (Conv2D)              (None, 26, 26, 32)        896       \n",
      "_________________________________________________________________\n",
      "max_pooling2d (MaxPooling2D) (None, 13, 13, 32)        0         \n",
      "_________________________________________________________________\n",
      "conv2d_1 (Conv2D)            (None, 11, 11, 64)        18496     \n",
      "_________________________________________________________________\n",
      "max_pooling2d_1 (MaxPooling2 (None, 5, 5, 64)          0         \n",
      "_________________________________________________________________\n",
      "flatten (Flatten)            (None, 1600)              0         \n",
      "_________________________________________________________________\n",
      "dense (Dense)                (None, 64)                102464    \n",
      "_________________________________________________________________\n",
      "dense_1 (Dense)              (None, 2)                 130       \n",
      "=================================================================\n",
      "Total params: 121,986\n",
      "Trainable params: 121,986\n",
      "Non-trainable params: 0\n",
      "_________________________________________________________________\n"
     ]
    }
   ],
   "source": [
    "model.summary()"
   ]
  },
  {
   "cell_type": "code",
   "execution_count": 14,
   "id": "b21c71c3",
   "metadata": {
    "execution": {
     "iopub.execute_input": "2022-09-29T09:31:49.249308Z",
     "iopub.status.busy": "2022-09-29T09:31:49.248599Z",
     "iopub.status.idle": "2022-09-29T09:31:49.262309Z",
     "shell.execute_reply": "2022-09-29T09:31:49.261087Z"
    },
    "papermill": {
     "duration": 0.026059,
     "end_time": "2022-09-29T09:31:49.265250",
     "exception": false,
     "start_time": "2022-09-29T09:31:49.239191",
     "status": "completed"
    },
    "tags": []
   },
   "outputs": [],
   "source": [
    "model.compile(optimizer='Adam',\n",
    "             loss='categorical_crossentropy',\n",
    "             metrics='accuracy')"
   ]
  },
  {
   "cell_type": "code",
   "execution_count": 15,
   "id": "806cada3",
   "metadata": {
    "execution": {
     "iopub.execute_input": "2022-09-29T09:31:49.283089Z",
     "iopub.status.busy": "2022-09-29T09:31:49.282568Z",
     "iopub.status.idle": "2022-09-29T09:31:56.023872Z",
     "shell.execute_reply": "2022-09-29T09:31:56.022502Z"
    },
    "papermill": {
     "duration": 6.75363,
     "end_time": "2022-09-29T09:31:56.026821",
     "exception": false,
     "start_time": "2022-09-29T09:31:49.273191",
     "status": "completed"
    },
    "tags": []
   },
   "outputs": [
    {
     "name": "stdout",
     "output_type": "stream",
     "text": [
      "Epoch 1/10\n",
      "38/38 [==============================] - 1s 13ms/step - loss: 5.1934 - accuracy: 0.6168\n",
      "Epoch 2/10\n",
      "38/38 [==============================] - 1s 13ms/step - loss: 0.3680 - accuracy: 0.8354\n",
      "Epoch 3/10\n",
      "38/38 [==============================] - 1s 12ms/step - loss: 0.2358 - accuracy: 0.9102\n",
      "Epoch 4/10\n",
      "38/38 [==============================] - 1s 12ms/step - loss: 0.1802 - accuracy: 0.9268\n",
      "Epoch 5/10\n",
      "38/38 [==============================] - 1s 13ms/step - loss: 0.1479 - accuracy: 0.9418\n",
      "Epoch 6/10\n",
      "38/38 [==============================] - 1s 13ms/step - loss: 0.1337 - accuracy: 0.9468\n",
      "Epoch 7/10\n",
      "38/38 [==============================] - 1s 13ms/step - loss: 0.1220 - accuracy: 0.9534\n",
      "Epoch 8/10\n",
      "38/38 [==============================] - 1s 13ms/step - loss: 0.0980 - accuracy: 0.9634\n",
      "Epoch 9/10\n",
      "38/38 [==============================] - 1s 12ms/step - loss: 0.0925 - accuracy: 0.9659\n",
      "Epoch 10/10\n",
      "38/38 [==============================] - 1s 12ms/step - loss: 0.0759 - accuracy: 0.9742\n"
     ]
    }
   ],
   "source": [
    "history = model.fit(train_data_set, batch_size=32, epochs=10, \n",
    "                   shuffle=True)"
   ]
  },
  {
   "cell_type": "markdown",
   "id": "d86dc147",
   "metadata": {
    "papermill": {
     "duration": 0.015054,
     "end_time": "2022-09-29T09:31:56.057176",
     "exception": false,
     "start_time": "2022-09-29T09:31:56.042122",
     "status": "completed"
    },
    "tags": []
   },
   "source": [
    "Plot of Loss vs epochs"
   ]
  },
  {
   "cell_type": "code",
   "execution_count": 16,
   "id": "917b5f56",
   "metadata": {
    "execution": {
     "iopub.execute_input": "2022-09-29T09:31:56.089478Z",
     "iopub.status.busy": "2022-09-29T09:31:56.089045Z",
     "iopub.status.idle": "2022-09-29T09:31:56.095548Z",
     "shell.execute_reply": "2022-09-29T09:31:56.094616Z"
    },
    "papermill": {
     "duration": 0.024935,
     "end_time": "2022-09-29T09:31:56.097685",
     "exception": false,
     "start_time": "2022-09-29T09:31:56.072750",
     "status": "completed"
    },
    "tags": []
   },
   "outputs": [
    {
     "data": {
      "text/plain": [
       "dict_keys(['loss', 'accuracy'])"
      ]
     },
     "execution_count": 16,
     "metadata": {},
     "output_type": "execute_result"
    }
   ],
   "source": [
    "history.history.keys()"
   ]
  },
  {
   "cell_type": "code",
   "execution_count": 17,
   "id": "8aa75636",
   "metadata": {
    "execution": {
     "iopub.execute_input": "2022-09-29T09:31:56.129685Z",
     "iopub.status.busy": "2022-09-29T09:31:56.128716Z",
     "iopub.status.idle": "2022-09-29T09:31:56.301113Z",
     "shell.execute_reply": "2022-09-29T09:31:56.299922Z"
    },
    "papermill": {
     "duration": 0.191121,
     "end_time": "2022-09-29T09:31:56.303616",
     "exception": false,
     "start_time": "2022-09-29T09:31:56.112495",
     "status": "completed"
    },
    "tags": []
   },
   "outputs": [
    {
     "data": {
      "text/plain": [
       "Text(0.5, 1.0, 'Loss V/S epochs')"
      ]
     },
     "execution_count": 17,
     "metadata": {},
     "output_type": "execute_result"
    },
    {
     "data": {
      "image/png": "[encoded data removed]",
      "text/plain": [
       "<Figure size 720x360 with 1 Axes>"
      ]
     },
     "metadata": {
      "needs_background": "light"
     },
     "output_type": "display_data"
    }
   ],
   "source": [
    "acc = history.history['accuracy'] \n",
    "\n",
    "loss = history.history['loss']\n",
    "\n",
    "\n",
    "epochs_range = range(10)\n",
    "\n",
    "plt.figure(figsize=(10, 5))\n",
    "plt.subplot(1, 2, 1)\n",
    "plt.plot(epochs_range, acc, label='Training Accuracy')\n",
    "plt.plot(epochs_range, loss, label='Loss')\n",
    "plt.legend(loc='lower right')\n",
    "plt.title('Loss V/S epochs')\n"
   ]
  },
  {
   "cell_type": "code",
   "execution_count": 18,
   "id": "cc9e33fc",
   "metadata": {
    "execution": {
     "iopub.execute_input": "2022-09-29T09:31:56.337077Z",
     "iopub.status.busy": "2022-09-29T09:31:56.336639Z",
     "iopub.status.idle": "2022-09-29T09:31:56.828251Z",
     "shell.execute_reply": "2022-09-29T09:31:56.826406Z"
    },
    "papermill": {
     "duration": 0.511025,
     "end_time": "2022-09-29T09:31:56.830981",
     "exception": false,
     "start_time": "2022-09-29T09:31:56.319956",
     "status": "completed"
    },
    "tags": []
   },
   "outputs": [
    {
     "name": "stdout",
     "output_type": "stream",
     "text": [
      "Found 12030 files belonging to 1 classes.\n"
     ]
    }
   ],
   "source": [
    "test_data = tf.keras.utils.image_dataset_from_directory('./test_samples',\n",
    "                                                        labels='inferred',\n",
    "                                                        label_mode='categorical',\n",
    "                                                        image_size=(28,28))"
   ]
  },
  {
   "cell_type": "code",
   "execution_count": 19,
   "id": "593bde41",
   "metadata": {
    "execution": {
     "iopub.execute_input": "2022-09-29T09:31:56.863528Z",
     "iopub.status.busy": "2022-09-29T09:31:56.863104Z",
     "iopub.status.idle": "2022-09-29T09:31:56.869202Z",
     "shell.execute_reply": "2022-09-29T09:31:56.867695Z"
    },
    "papermill": {
     "duration": 0.026355,
     "end_time": "2022-09-29T09:31:56.872560",
     "exception": false,
     "start_time": "2022-09-29T09:31:56.846205",
     "status": "completed"
    },
    "tags": []
   },
   "outputs": [
    {
     "name": "stdout",
     "output_type": "stream",
     "text": [
      "['test_imgs']\n"
     ]
    }
   ],
   "source": [
    "class_names_test = test_data.class_names\n",
    "print(class_names_test)"
   ]
  },
  {
   "cell_type": "code",
   "execution_count": 20,
   "id": "f8535a52",
   "metadata": {
    "execution": {
     "iopub.execute_input": "2022-09-29T09:31:56.906914Z",
     "iopub.status.busy": "2022-09-29T09:31:56.906133Z",
     "iopub.status.idle": "2022-09-29T09:31:57.639312Z",
     "shell.execute_reply": "2022-09-29T09:31:57.638438Z"
    },
    "papermill": {
     "duration": 0.753428,
     "end_time": "2022-09-29T09:31:57.642413",
     "exception": false,
     "start_time": "2022-09-29T09:31:56.888985",
     "status": "completed"
    },
    "tags": []
   },
   "outputs": [
    {
     "data": {
      "image/png": "[encoded data removed]",
      "text/plain": [
       "<Figure size 720x720 with 4 Axes>"
      ]
     },
     "metadata": {
      "needs_background": "light"
     },
     "output_type": "display_data"
    }
   ],
   "source": [
    "plt.figure(figsize=(10, 10))\n",
    "for images, labels in test_data.take(1):\n",
    "    for i in range(4):\n",
    "        sample = images[i]\n",
    "        sample = sample[np.newaxis,...]\n",
    "        ax = plt.subplot(4, 4, i + 1)\n",
    "        plt.imshow(images[i].numpy().astype(\"uint8\"))\n",
    "        plt.title(class_names[np.argmax(model.predict(sample))])\n",
    "        plt.axis(\"off\")"
   ]
  },
  {
   "cell_type": "code",
   "execution_count": null,
   "id": "98db0e02",
   "metadata": {
    "papermill": {
     "duration": 0.019195,
     "end_time": "2022-09-29T09:31:57.687622",
     "exception": false,
     "start_time": "2022-09-29T09:31:57.668427",
     "status": "completed"
    },
    "tags": []
   },
   "outputs": [],
   "source": []
  }
 ],
 "metadata": {
  "kernelspec": {
   "display_name": "Python 3",
   "language": "python",
   "name": "python3"
  },
  "language_info": {
   "codemirror_mode": {
    "name": "ipython",
    "version": 3
   },
   "file_extension": ".py",
   "mimetype": "text/x-python",
   "name": "python",
   "nbconvert_exporter": "python",
   "pygments_lexer": "ipython3",
   "version": "3.7.12"
  },
  "papermill": {
   "default_parameters": {},
   "duration": 76.235928,
   "end_time": "2022-09-29T09:32:00.773557",
   "environment_variables": {},
   "exception": null,
   "input_path": "__notebook__.ipynb",
   "output_path": "__notebook__.ipynb",
   "parameters": {},
   "start_time": "2022-09-29T09:30:44.537629",
   "version": "2.3.4"
  }
 },
 "nbformat": 4,
 "nbformat_minor": 5
}
